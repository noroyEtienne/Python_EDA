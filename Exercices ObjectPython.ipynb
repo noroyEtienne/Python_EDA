{
 "cells": [
  {
   "cell_type": "markdown",
   "metadata": {},
   "source": [
    "# Exercice 1 : Compte bancaire :"
   ]
  },
  {
   "cell_type": "code",
   "execution_count": 21,
   "metadata": {},
   "outputs": [
    {
     "name": "stdout",
     "output_type": "stream",
     "text": [
      "Le solde du compte bancaire de Duchmolest de 950 euros.\n",
      "Le solde du compte bancaire de Dupontest de 1025 euros.\n"
     ]
    }
   ],
   "source": [
    "class CompteBancaire:\n",
    "    def __init__(self, nom = \"Dupont\", solde = 1000):\n",
    "        self._nom = nom\n",
    "        self._solde = solde\n",
    "    \n",
    "    def depot(self, somme):\n",
    "        self._solde += somme\n",
    "        \n",
    "    def retrait(self, somme):\n",
    "        self._solde -= somme\n",
    "    \n",
    "    def affiche(self):\n",
    "        print(\"Le solde du compte bancaire de \"+ self._nom + \"est de \" + str(self._solde) + \" euros.\")\n",
    "        \n",
    "\n",
    "compte1 = CompteBancaire('Duchmol', 800)\n",
    "compte1.depot(350)\n",
    "compte1.retrait(200)\n",
    "compte1.affiche()\n",
    "compte2 = CompteBancaire()\n",
    "compte2.depot(25)\n",
    "compte2.affiche()\n",
    "\n",
    "        "
   ]
  },
  {
   "cell_type": "markdown",
   "metadata": {},
   "source": [
    "# Exercice 2 : La surcharge d'opérateur :"
   ]
  },
  {
   "cell_type": "code",
   "execution_count": 3,
   "metadata": {},
   "outputs": [
    {
     "name": "stdout",
     "output_type": "stream",
     "text": [
      "P(2.00 , 3.00)\n",
      "P(1.00 , -5.00 , 6.00)\n"
     ]
    }
   ],
   "source": [
    "class Point:\n",
    "    \"\"\"\n",
    "        Class Point\n",
    "    \"\"\"\n",
    "    def __init__(self, x, y, z = 0):\n",
    "        self._x = format(x, '.2f')\n",
    "        self._y = format(y, '.2f')\n",
    "        self._z = format(z, '.2f') if z != 0 else 0\n",
    "        \n",
    "    def ToS tring(self)->str:\n",
    "        if self._z == 0:\n",
    "           print(\"P({} , {})\".format(self._x, self._y))\n",
    "        else:\n",
    "            print(\"P({} , {} , {})\".format(self._x, self._y, self._z))\n",
    "            \n",
    "            \n",
    "P1=Point(2,3)\n",
    "P1.ToString()\n",
    "P2=Point(1,-5,6)\n",
    "P2.ToString()"
   ]
  },
  {
   "cell_type": "markdown",
   "metadata": {},
   "source": [
    "# Exercice 3 : L'héritage simple :"
   ]
  },
  {
   "cell_type": "code",
   "execution_count": 52,
   "metadata": {},
   "outputs": [
    {
     "name": "stdout",
     "output_type": "stream",
     "text": [
      "Nom: Ilyass\n",
      "Prénom: Math\n",
      "Date de naissance: 01 / 07 / 1982\n",
      "Nom: Ilyass\n",
      "Prénom: Math\n",
      "Date de naissance: 01 / 07 / 1985\n",
      "Salaire: 7865.55\n",
      "Nom: Ilyass\n",
      "Prénom: Math\n",
      "Date de naissance: 01 / 07 / 1988\n",
      "Salaire: 7865.55\n",
      "Service: Ressource humaine\n"
     ]
    }
   ],
   "source": [
    "class DateNaissance:\n",
    "    \n",
    "    def __init__(self, jour, mois, annee):\n",
    "        self._jour = str(jour).zfill(2)\n",
    "        self._mois = str(mois).zfill(2)\n",
    "        self._annee = annee\n",
    "        \n",
    "    def __str__(self):\n",
    "        return \"{} / {} / {}\".format(self._jour, self._mois, self._annee)\n",
    "        \n",
    "class Personne():\n",
    "\n",
    "    def __init__(self, nom, prenom, date_naissance):\n",
    "        self._nom = nom\n",
    "        self._prenom = prenom\n",
    "        self._date_naissance = date_naissance\n",
    "        \n",
    "    def afficher(self):\n",
    "        print(\"Nom: {}\".format(self._nom))\n",
    "        print(\"Prénom: {}\".format(self._prenom))\n",
    "        print(\"Date de naissance: {}\".format(self._date_naissance))\n",
    "    \n",
    "class Employe(Personne):\n",
    "    \n",
    "    def __init__(self, nom, prenom, date_naissance, salaire):\n",
    "        super().__init__(nom, prenom, date_naissance)\n",
    "        self._salaire = format(salaire, '.2f')\n",
    "        \n",
    "    def afficher(self):\n",
    "        super().afficher()\n",
    "        print(\"Salaire: {}\".format(self._salaire))\n",
    "        \n",
    "class Chef(Employe):\n",
    "    \n",
    "    def __init__(self, nom, prenom, date_naissance, salaire, service):\n",
    "        super().__init__(nom, prenom, date_naissance, salaire)\n",
    "        self._service = service\n",
    "        \n",
    "    def afficher(self):\n",
    "        super().afficher()\n",
    "        print(\"Service: {}\".format(self._service))\n",
    "        \n",
    "        \n",
    "P=Personne(\"Ilyass\",\"Math\",DateNaissance(1,7,1982))\n",
    "P.afficher()\n",
    "E=Employe(\"Ilyass\",\"Math\",DateNaissance(1,7,1985),7865.548)\n",
    "E.afficher()\n",
    "Ch=Chef(\"Ilyass\",\"Math\",DateNaissance(1,7,1988),7865.548,\"Ressource humaine\")\n",
    "Ch.afficher()"
   ]
  },
  {
   "cell_type": "code",
   "execution_count": null,
   "metadata": {},
   "outputs": [],
   "source": []
  }
 ],
 "metadata": {
  "kernelspec": {
   "display_name": "Python 3",
   "language": "python",
   "name": "python3"
  },
  "language_info": {
   "codemirror_mode": {
    "name": "ipython",
    "version": 3
   },
   "file_extension": ".py",
   "mimetype": "text/x-python",
   "name": "python",
   "nbconvert_exporter": "python",
   "pygments_lexer": "ipython3",
   "version": "3.7.8rc1"
  }
 },
 "nbformat": 4,
 "nbformat_minor": 4
}
