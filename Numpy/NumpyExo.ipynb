{
 "cells": [
  {
   "cell_type": "markdown",
   "metadata": {},
   "source": [
    "# Numpy exercices pratiques\n",
    "Ce notebook à pour objectif de vous faire pratiquer numpy dans toute sa généralité. \n",
    "Vous avez donc une liste de questions à faire ! Il ne faut pas hésiter à faire des recherches sur google ainsi que voir la [documentation officielle](https://docs.scipy.org/doc/numpy-1.13.0/reference/). "
   ]
  },
  {
   "cell_type": "markdown",
   "metadata": {},
   "source": [
    "#### Q1 : Importer le package numpy "
   ]
  },
  {
   "cell_type": "code",
   "execution_count": 1,
   "metadata": {},
   "outputs": [],
   "source": [
    "import numpy as np"
   ]
  },
  {
   "cell_type": "markdown",
   "metadata": {},
   "source": [
    "#### Q2 : Afficher la version de numpy et la configuration "
   ]
  },
  {
   "cell_type": "code",
   "execution_count": 13,
   "metadata": {},
   "outputs": [
    {
     "data": {
      "text/plain": [
       "'1.19.5'"
      ]
     },
     "execution_count": 13,
     "metadata": {},
     "output_type": "execute_result"
    }
   ],
   "source": [
    "np.version.version"
   ]
  },
  {
   "cell_type": "code",
   "execution_count": 14,
   "metadata": {},
   "outputs": [
    {
     "name": "stdout",
     "output_type": "stream",
     "text": [
      "blas_mkl_info:\n",
      "  NOT AVAILABLE\n",
      "blis_info:\n",
      "  NOT AVAILABLE\n",
      "openblas_info:\n",
      "    library_dirs = ['D:\\\\a\\\\1\\\\s\\\\numpy\\\\build\\\\openblas_info']\n",
      "    libraries = ['openblas_info']\n",
      "    language = f77\n",
      "    define_macros = [('HAVE_CBLAS', None)]\n",
      "blas_opt_info:\n",
      "    library_dirs = ['D:\\\\a\\\\1\\\\s\\\\numpy\\\\build\\\\openblas_info']\n",
      "    libraries = ['openblas_info']\n",
      "    language = f77\n",
      "    define_macros = [('HAVE_CBLAS', None)]\n",
      "lapack_mkl_info:\n",
      "  NOT AVAILABLE\n",
      "openblas_lapack_info:\n",
      "    library_dirs = ['D:\\\\a\\\\1\\\\s\\\\numpy\\\\build\\\\openblas_lapack_info']\n",
      "    libraries = ['openblas_lapack_info']\n",
      "    language = f77\n",
      "    define_macros = [('HAVE_CBLAS', None)]\n",
      "lapack_opt_info:\n",
      "    library_dirs = ['D:\\\\a\\\\1\\\\s\\\\numpy\\\\build\\\\openblas_lapack_info']\n",
      "    libraries = ['openblas_lapack_info']\n",
      "    language = f77\n",
      "    define_macros = [('HAVE_CBLAS', None)]\n"
     ]
    }
   ],
   "source": [
    "np.show_config()"
   ]
  },
  {
   "cell_type": "markdown",
   "metadata": {},
   "source": [
    "#### Q3 : Créer un vecteur nul de taille 10"
   ]
  },
  {
   "cell_type": "code",
   "execution_count": 33,
   "metadata": {},
   "outputs": [
    {
     "name": "stdout",
     "output_type": "stream",
     "text": [
      "[0. 0. 0. 0. 0. 0. 0. 0. 0. 0.]\n"
     ]
    }
   ],
   "source": [
    "vn= np.zeros(10)\n",
    "print(vn)"
   ]
  },
  {
   "cell_type": "markdown",
   "metadata": {},
   "source": [
    "#### Q4 : Créer un vecteur null de taille 10 et affecter la valeur 1 à la 4ème place (index 4) du vecteur"
   ]
  },
  {
   "cell_type": "code",
   "execution_count": 40,
   "metadata": {},
   "outputs": [
    {
     "name": "stdout",
     "output_type": "stream",
     "text": [
      "[0. 0. 0. 0. 1. 0. 0. 0. 0. 0.]\n"
     ]
    }
   ],
   "source": [
    "vn[4]=1\n",
    "print(vn)"
   ]
  },
  {
   "cell_type": "markdown",
   "metadata": {},
   "source": [
    "#### Q5 : Créer un vecteur Z de 40 valeurs allant de 10 à 50 "
   ]
  },
  {
   "cell_type": "code",
   "execution_count": 31,
   "metadata": {},
   "outputs": [
    {
     "name": "stdout",
     "output_type": "stream",
     "text": [
      "[10.         11.02564103 12.05128205 13.07692308 14.1025641  15.12820513\n",
      " 16.15384615 17.17948718 18.20512821 19.23076923 20.25641026 21.28205128\n",
      " 22.30769231 23.33333333 24.35897436 25.38461538 26.41025641 27.43589744\n",
      " 28.46153846 29.48717949 30.51282051 31.53846154 32.56410256 33.58974359\n",
      " 34.61538462 35.64102564 36.66666667 37.69230769 38.71794872 39.74358974\n",
      " 40.76923077 41.79487179 42.82051282 43.84615385 44.87179487 45.8974359\n",
      " 46.92307692 47.94871795 48.97435897 50.        ]\n"
     ]
    }
   ],
   "source": [
    "z = np.linspace(10,50,40)\n",
    "print(z)"
   ]
  },
  {
   "cell_type": "markdown",
   "metadata": {},
   "source": [
    "#### Q6 : Inverser Z (le premier élément devient donc le dernier)"
   ]
  },
  {
   "cell_type": "code",
   "execution_count": 39,
   "metadata": {},
   "outputs": [
    {
     "name": "stdout",
     "output_type": "stream",
     "text": [
      "[50.         48.97435897 47.94871795 46.92307692 45.8974359  44.87179487\n",
      " 43.84615385 42.82051282 41.79487179 40.76923077 39.74358974 38.71794872\n",
      " 37.69230769 36.66666667 35.64102564 34.61538462 33.58974359 32.56410256\n",
      " 31.53846154 30.51282051 29.48717949 28.46153846 27.43589744 26.41025641\n",
      " 25.38461538 24.35897436 23.33333333 22.30769231 21.28205128 20.25641026\n",
      " 19.23076923 18.20512821 17.17948718 16.15384615 15.12820513 14.1025641\n",
      " 13.07692308 12.05128205 11.02564103 10.        ]\n"
     ]
    }
   ],
   "source": [
    "z_reverse = z[::-1]\n",
    "print(z_reverse)"
   ]
  },
  {
   "cell_type": "markdown",
   "metadata": {},
   "source": [
    "#### Q7 : Créer une matrice 3x3 avec des valeurs comprise entre 0 et 8 "
   ]
  },
  {
   "cell_type": "code",
   "execution_count": 54,
   "metadata": {},
   "outputs": [
    {
     "name": "stdout",
     "output_type": "stream",
     "text": [
      "[[0 1 2]\n",
      " [3 4 5]\n",
      " [6 7 8]]\n"
     ]
    }
   ],
   "source": [
    "m = np.arange(0,9).reshape(3,3)\n",
    "print(m)"
   ]
  },
  {
   "cell_type": "markdown",
   "metadata": {},
   "source": [
    "#### Q8 : Créer une matrice identié 3x3 "
   ]
  },
  {
   "cell_type": "code",
   "execution_count": 55,
   "metadata": {},
   "outputs": [
    {
     "name": "stdout",
     "output_type": "stream",
     "text": [
      "[[1. 0. 0.]\n",
      " [0. 1. 0.]\n",
      " [0. 0. 1.]]\n"
     ]
    }
   ],
   "source": [
    "print(np.eye(3,3))"
   ]
  },
  {
   "cell_type": "markdown",
   "metadata": {},
   "source": [
    "#### Q9 : Créer une matrice 3x3x3 avec des valeurs random "
   ]
  },
  {
   "cell_type": "code",
   "execution_count": 61,
   "metadata": {},
   "outputs": [
    {
     "name": "stdout",
     "output_type": "stream",
     "text": [
      "[[[0.5190406  0.84923071 0.74079599]\n",
      "  [0.02190672 0.46846969 0.40007769]\n",
      "  [0.18579405 0.30849201 0.45214232]]\n",
      "\n",
      " [[0.90937056 0.80729445 0.1296197 ]\n",
      "  [0.36062405 0.59757158 0.98850301]\n",
      "  [0.59017544 0.07957521 0.14127611]]\n",
      "\n",
      " [[0.62706322 0.13271001 0.20011736]\n",
      "  [0.38855933 0.03513569 0.29566284]\n",
      "  [0.46785997 0.25672857 0.49985209]]]\n"
     ]
    }
   ],
   "source": [
    "nr= np.random\n",
    "nr.rand(27).reshape(3,3,3)\n",
    "print(n)"
   ]
  },
  {
   "cell_type": "markdown",
   "metadata": {},
   "source": [
    "#### Q10 : Créer une matrice 10x10 avec des valeurs random et afficher le minimum et maximum de cette matrice"
   ]
  },
  {
   "cell_type": "code",
   "execution_count": 111,
   "metadata": {},
   "outputs": [
    {
     "name": "stdout",
     "output_type": "stream",
     "text": [
      "[[ 1.29562323 -3.0757008   1.08594025  0.61967657 -0.43635401  0.75295001\n",
      "  -0.22898626  1.04459934 -0.09550802 -0.42549883]\n",
      " [ 1.17789399  0.13062452  0.74564817 -2.01986117  1.58933988 -2.6120914\n",
      "   0.72376838 -0.79829558 -0.37608997 -0.80159131]\n",
      " [-1.02486369  0.2932188  -1.46694438  0.32319636 -1.65876919 -0.65749372\n",
      "  -0.63266365  0.72873553 -0.86563298  0.19394647]\n",
      " [-0.74887805 -1.781476   -0.67192465 -0.78499317 -0.39337665 -1.8171191\n",
      "  -0.28268983 -1.52157178 -0.65754201 -0.1830735 ]\n",
      " [-0.18857847  0.30708132 -0.06403928  1.83751895  1.63986558 -2.13104348\n",
      "  -0.56193897  1.02231899  0.29404582 -1.54971048]\n",
      " [ 1.99951086 -0.30706094 -0.44045677  1.01102368  0.79065298  1.37825909\n",
      "   1.56824514  1.35991125 -0.64342418 -0.21486215]\n",
      " [-0.16629906  0.79329008  0.51224213  0.03029423 -1.01391535  0.22310413\n",
      "  -0.41393401  1.19291387  0.31392207 -0.75076027]\n",
      " [-0.34338965 -0.01544292  0.68438723 -0.212639   -0.60864504  1.17715718\n",
      "  -1.71755715 -1.13011456 -0.13373395  0.07473992]\n",
      " [-1.47043525 -1.92202555 -0.34201089  0.59037094 -0.30211797 -0.60280909\n",
      "   1.98969158  1.65393662 -0.80591335 -0.85157422]\n",
      " [ 0.38181822 -0.07913906 -0.75000899 -1.79083452 -0.23211183 -0.86986832\n",
      "  -0.39432768  0.16094879 -0.38381057 -0.38322998]]\n",
      "Max:1.9995108623755473\n",
      "Min:-3.0757007985404554\n"
     ]
    }
   ],
   "source": [
    "n = nr.randn(10,10)\n",
    "n_max = n.max()\n",
    "n_min = n.min()\n",
    "print(n)\n",
    "print(\"Max:{}\".format(n_max))\n",
    "print(\"Min:{}\".format(n_min))"
   ]
  },
  {
   "cell_type": "markdown",
   "metadata": {},
   "source": [
    "#### Q11 : Créer une matrice 5x5 avec les valeurs 1,2,3,4 en dessous de la diagonale "
   ]
  },
  {
   "cell_type": "code",
   "execution_count": 129,
   "metadata": {},
   "outputs": [
    {
     "name": "stdout",
     "output_type": "stream",
     "text": [
      "[[0 0 0 0 0]\n",
      " [1 0 0 0 0]\n",
      " [0 2 0 0 0]\n",
      " [0 0 3 0 0]\n",
      " [0 0 0 4 0]]\n"
     ]
    }
   ],
   "source": [
    "d = np.array([1,2,3,4])\n",
    "e = np.diag(d,-1)\n",
    "print(e)"
   ]
  },
  {
   "cell_type": "markdown",
   "metadata": {},
   "source": [
    "#### Q12 : Créer une liste random de taille 5 et donner la somme de ses éléments  "
   ]
  },
  {
   "cell_type": "code",
   "execution_count": 85,
   "metadata": {},
   "outputs": [
    {
     "name": "stdout",
     "output_type": "stream",
     "text": [
      "[0.26992474 0.93878793 0.44607689 0.59146903 0.50796105]\n",
      "2.754219629172173\n"
     ]
    }
   ],
   "source": [
    "l = nr.rand(5)\n",
    "s= np.sum(l)\n",
    "print(l)\n",
    "print(s)"
   ]
  },
  {
   "cell_type": "markdown",
   "metadata": {},
   "source": [
    "#### Q13 : Créer une liste random de taille 5 et donner la moyenne de ses éléments"
   ]
  },
  {
   "cell_type": "code",
   "execution_count": 76,
   "metadata": {},
   "outputs": [
    {
     "name": "stdout",
     "output_type": "stream",
     "text": [
      "[0.2860681  0.45021443 0.47898447 0.68627929 0.82453968]\n",
      "0.5452171935478096\n"
     ]
    }
   ],
   "source": [
    "m = np.mean(l)\n",
    "print(l)\n",
    "print(m)"
   ]
  },
  {
   "cell_type": "markdown",
   "metadata": {},
   "source": [
    "#### Q14 : En utilisant une fonction, donner la taille de la liste suivante :\n",
    "```python \n",
    "l = [x for x in range(11)]\n",
    "```"
   ]
  },
  {
   "cell_type": "code",
   "execution_count": 96,
   "metadata": {},
   "outputs": [
    {
     "data": {
      "text/plain": [
       "11"
      ]
     },
     "execution_count": 96,
     "metadata": {},
     "output_type": "execute_result"
    }
   ],
   "source": [
    "l = [x for x in range(11)]\n",
    "np.size(l)"
   ]
  },
  {
   "cell_type": "markdown",
   "metadata": {},
   "source": [
    "#### Q15 : Créer un tableau de taille 10 avec des valeurs comprises entre 0 et 1 EXCLUS "
   ]
  },
  {
   "cell_type": "code",
   "execution_count": 103,
   "metadata": {},
   "outputs": [
    {
     "name": "stdout",
     "output_type": "stream",
     "text": [
      "[0.  0.1 0.2 0.3 0.4 0.5 0.6 0.7 0.8 0.9]\n"
     ]
    }
   ],
   "source": [
    "print(np.linspace(0,1,10, False))"
   ]
  },
  {
   "cell_type": "markdown",
   "metadata": {},
   "source": [
    "#### Q16 : Soit deux tableau A et B de dimension 1 et de taille 5, créer A et B et afficher True si A et B sont égaux False sinon"
   ]
  },
  {
   "cell_type": "code",
   "execution_count": 110,
   "metadata": {},
   "outputs": [
    {
     "name": "stdout",
     "output_type": "stream",
     "text": [
      "[False False False False False]\n"
     ]
    }
   ],
   "source": [
    "A= np.linspace(0,5,5)\n",
    "B= np.linspace(1,6,5)\n",
    "print(A == B)"
   ]
  },
  {
   "cell_type": "markdown",
   "metadata": {},
   "source": [
    "#### Q17 : Convertir un tableau de float32 de dimension 1 et de taille 10 en un tableau de meme taille et dimension mais de type int32"
   ]
  },
  {
   "cell_type": "code",
   "execution_count": 133,
   "metadata": {},
   "outputs": [
    {
     "name": "stdout",
     "output_type": "stream",
     "text": [
      "float32\n",
      "int32\n"
     ]
    }
   ],
   "source": [
    "a=np.arange(10, dtype='float32')\n",
    "print(a.dtype)\n",
    "a=a.astype('int32')\n",
    "print(a.dtype)"
   ]
  },
  {
   "cell_type": "markdown",
   "metadata": {},
   "source": [
    "#### Q18 : Normaliser une matrice random 5x5 \n",
    "La normalisation d'un nombre X consiste à lui retirer sa moyenne et a diviser le tout par son écart type "
   ]
  },
  {
   "cell_type": "code",
   "execution_count": null,
   "metadata": {},
   "outputs": [],
   "source": [
    "(x - mean(x))/ecart_type(x)"
   ]
  },
  {
   "cell_type": "markdown",
   "metadata": {},
   "source": [
    "#### Q19 : Créer une matrice random `M` 2x2 et donner sa transposer \n",
    "L'opération de transposition dans une matrice consiste à échanger les lignes et le colonnes. "
   ]
  },
  {
   "cell_type": "code",
   "execution_count": null,
   "metadata": {},
   "outputs": [],
   "source": []
  },
  {
   "cell_type": "markdown",
   "metadata": {},
   "source": [
    "#### Q20 : Écrire un petit script qui remplace un élément au hasard dans une matrice de dimension NxN"
   ]
  },
  {
   "cell_type": "code",
   "execution_count": null,
   "metadata": {},
   "outputs": [],
   "source": []
  },
  {
   "cell_type": "markdown",
   "metadata": {},
   "source": [
    "#### Q21 : Considérons une matrice de dimension (5,5,3), écrire un script qui multiplie cette matrice par une matrice de dimension (5,5)"
   ]
  },
  {
   "cell_type": "code",
   "execution_count": null,
   "metadata": {},
   "outputs": [],
   "source": []
  }
 ],
 "metadata": {
  "kernelspec": {
   "display_name": "Python 3",
   "language": "python",
   "name": "python3"
  },
  "language_info": {
   "codemirror_mode": {
    "name": "ipython",
    "version": 3
   },
   "file_extension": ".py",
   "mimetype": "text/x-python",
   "name": "python",
   "nbconvert_exporter": "python",
   "pygments_lexer": "ipython3",
   "version": "3.7.8rc1"
  }
 },
 "nbformat": 4,
 "nbformat_minor": 2
}
