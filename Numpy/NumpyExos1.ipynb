{
 "cells": [
  {
   "cell_type": "code",
   "execution_count": 1,
   "metadata": {},
   "outputs": [],
   "source": [
    "import numpy as np"
   ]
  },
  {
   "cell_type": "markdown",
   "metadata": {},
   "source": [
    "# Quelques fonctions utiles"
   ]
  },
  {
   "cell_type": "markdown",
   "metadata": {},
   "source": [
    "On a créé un tableau 2D `rdm_mat` contenant des valeurs aléatoires. "
   ]
  },
  {
   "cell_type": "code",
   "execution_count": 2,
   "metadata": {},
   "outputs": [
    {
     "name": "stdout",
     "output_type": "stream",
     "text": [
      "[[0.26749811 0.02563888]\n",
      " [0.84102628 0.94129872]]\n"
     ]
    }
   ],
   "source": [
    "rdm_mat = np.random.rand(2,2)\n",
    "print(rdm_mat)"
   ]
  },
  {
   "cell_type": "markdown",
   "metadata": {},
   "source": [
    "Donner le type de la variable rdm_mat"
   ]
  },
  {
   "cell_type": "code",
   "execution_count": 4,
   "metadata": {},
   "outputs": [
    {
     "name": "stdout",
     "output_type": "stream",
     "text": [
      "float64\n"
     ]
    }
   ],
   "source": [
    "print(rdm_mat.dtype)"
   ]
  },
  {
   "cell_type": "markdown",
   "metadata": {},
   "source": [
    "Donner la somme des éléments de ce tableau 2D"
   ]
  },
  {
   "cell_type": "code",
   "execution_count": 5,
   "metadata": {},
   "outputs": [
    {
     "name": "stdout",
     "output_type": "stream",
     "text": [
      "2.0754619823092773\n"
     ]
    }
   ],
   "source": [
    "print(rdm_mat.sum())"
   ]
  },
  {
   "cell_type": "markdown",
   "metadata": {},
   "source": [
    "Faire en sorte de récupérer la valeur maximale sur chaque ligne (sans boucles) avec la fonction np.max"
   ]
  },
  {
   "cell_type": "code",
   "execution_count": 6,
   "metadata": {},
   "outputs": [
    {
     "data": {
      "text/plain": [
       "array([0.26749811, 0.94129872])"
      ]
     },
     "execution_count": 6,
     "metadata": {},
     "output_type": "execute_result"
    }
   ],
   "source": [
    "np.max(rdm_mat, axis= 1)"
   ]
  },
  {
   "cell_type": "markdown",
   "metadata": {},
   "source": [
    "Faire de même pour récupérer la valeur maximum pour chaque colonne (sans boucles)"
   ]
  },
  {
   "cell_type": "code",
   "execution_count": null,
   "metadata": {},
   "outputs": [],
   "source": [
    "np.max(rdm_mat, axis=0)"
   ]
  },
  {
   "cell_type": "markdown",
   "metadata": {},
   "source": [
    "Faire la même chose (max des lignes) en définissant un tableau avec une boucle for et la fonction max de numpy"
   ]
  },
  {
   "cell_type": "code",
   "execution_count": 14,
   "metadata": {},
   "outputs": [
    {
     "name": "stdout",
     "output_type": "stream",
     "text": [
      "[[0.26749811 0.02563888]\n",
      " [0.84102628 0.94129872]]\n",
      "[0.26749811 0.94129872]\n"
     ]
    }
   ],
   "source": [
    "print(rdm_mat)\n",
    "max_rdm = np.array([])\n",
    "\n",
    "for cell in rdm_mat:\n",
    "    max_rdm = np.append(max_rdm, np.max(cell))\n",
    "    \n",
    "print(max_rdm)\n",
    "    "
   ]
  },
  {
   "cell_type": "markdown",
   "metadata": {},
   "source": [
    "On crée un vecteur aléatoire de taille 100 `rdm_vect`"
   ]
  },
  {
   "cell_type": "code",
   "execution_count": 15,
   "metadata": {},
   "outputs": [
    {
     "name": "stdout",
     "output_type": "stream",
     "text": [
      "[-3.94887753e-01  7.70805957e-01 -1.65215550e+00  1.81398917e+00\n",
      " -3.48033361e-01  3.00224009e-01  2.21677961e-01  1.08377499e+00\n",
      "  4.14979845e-02  7.90781524e-01 -3.53416800e-01  1.16570481e+00\n",
      " -1.07221401e+00  4.74634569e-01 -2.30698058e-01  1.45491919e+00\n",
      "  9.24655361e-01  7.08294579e-02  4.67481232e-01 -1.11913557e+00\n",
      " -5.69946797e-01  1.55167664e+00 -3.35063183e-01 -1.24276634e+00\n",
      " -1.48804087e-01 -2.40590825e-01 -2.26043830e-01 -1.02778780e+00\n",
      " -2.26728831e+00 -1.31864368e+00  6.31477368e-01 -2.39463043e+00\n",
      " -2.19678019e-01  1.94193299e-01  4.29900583e-01 -1.41663383e+00\n",
      "  8.13079367e-02  2.83340475e-01  3.45190395e-01  1.35973964e+00\n",
      " -3.72559334e-01  5.20009950e-01  6.94640171e-02  1.49245461e+00\n",
      "  1.12821794e-01 -4.85884788e-01  1.54180582e+00  4.50080471e-01\n",
      "  1.89498394e-01  1.26055734e+00  6.58280000e-01  1.99907732e+00\n",
      "  1.02010440e+00 -5.55423057e-01  1.56662729e+00  1.77704945e-01\n",
      " -6.31313748e-01  8.81826622e-01  4.74623159e-01 -2.31402800e+00\n",
      " -6.74007082e-01  9.17367175e-01  6.99487729e-01  1.78369003e+00\n",
      "  1.25230755e+00  1.13436572e+00 -2.96799977e-01 -4.45118384e-01\n",
      " -5.95878656e-02  1.31559037e+00 -2.64111307e-02 -1.37028194e+00\n",
      "  1.07567461e+00 -8.10460527e-01  7.78433696e-01 -4.05858025e-01\n",
      "  6.22092758e-01 -1.39702712e-01  5.66603874e-02 -1.39814210e-03\n",
      " -3.21081175e-01 -2.56975951e-01  1.40334470e+00  1.59231629e+00\n",
      " -4.37107763e-01  1.25264313e+00  2.64613284e-03  1.69601719e-01\n",
      "  3.04830121e-01  2.24241080e+00  7.08722480e-01 -5.16905666e-01\n",
      " -2.39770114e-01 -4.34252960e-01  1.74224772e+00  6.17851721e-01\n",
      " -6.37464641e-01  9.05846144e-02 -6.73417311e-01  1.59905193e-01]\n"
     ]
    }
   ],
   "source": [
    "rdm_vect = np.random.randn(100)\n",
    "rdm_vect.shape\n",
    "print(rdm_vect)"
   ]
  },
  {
   "cell_type": "markdown",
   "metadata": {},
   "source": [
    "Récupérer la position de la valeur maximale du vecteur avec la méthode np.argmax"
   ]
  },
  {
   "cell_type": "code",
   "execution_count": 25,
   "metadata": {},
   "outputs": [
    {
     "data": {
      "text/plain": [
       "89"
      ]
     },
     "execution_count": 25,
     "metadata": {},
     "output_type": "execute_result"
    }
   ],
   "source": [
    "np.argmax(rdm_vect)"
   ]
  },
  {
   "cell_type": "markdown",
   "metadata": {},
   "source": [
    "Afficher cette valeur "
   ]
  },
  {
   "cell_type": "code",
   "execution_count": 33,
   "metadata": {},
   "outputs": [
    {
     "name": "stdout",
     "output_type": "stream",
     "text": [
      "2.2424107960017583\n",
      "2.2424107960017583\n"
     ]
    }
   ],
   "source": [
    "\"1er\"\n",
    "print(np.max(rdm_vect))\n",
    "\"2ème\"\n",
    "print(rdm_vect[np.argmax(rdm_vect)])"
   ]
  },
  {
   "cell_type": "markdown",
   "metadata": {},
   "source": [
    "Convertir le vecteur en un tableau 10, 10"
   ]
  },
  {
   "cell_type": "code",
   "execution_count": 35,
   "metadata": {},
   "outputs": [
    {
     "name": "stdout",
     "output_type": "stream",
     "text": [
      "[[-3.94887753e-01  7.70805957e-01 -1.65215550e+00  1.81398917e+00\n",
      "  -3.48033361e-01  3.00224009e-01  2.21677961e-01  1.08377499e+00\n",
      "   4.14979845e-02  7.90781524e-01]\n",
      " [-3.53416800e-01  1.16570481e+00 -1.07221401e+00  4.74634569e-01\n",
      "  -2.30698058e-01  1.45491919e+00  9.24655361e-01  7.08294579e-02\n",
      "   4.67481232e-01 -1.11913557e+00]\n",
      " [-5.69946797e-01  1.55167664e+00 -3.35063183e-01 -1.24276634e+00\n",
      "  -1.48804087e-01 -2.40590825e-01 -2.26043830e-01 -1.02778780e+00\n",
      "  -2.26728831e+00 -1.31864368e+00]\n",
      " [ 6.31477368e-01 -2.39463043e+00 -2.19678019e-01  1.94193299e-01\n",
      "   4.29900583e-01 -1.41663383e+00  8.13079367e-02  2.83340475e-01\n",
      "   3.45190395e-01  1.35973964e+00]\n",
      " [-3.72559334e-01  5.20009950e-01  6.94640171e-02  1.49245461e+00\n",
      "   1.12821794e-01 -4.85884788e-01  1.54180582e+00  4.50080471e-01\n",
      "   1.89498394e-01  1.26055734e+00]\n",
      " [ 6.58280000e-01  1.99907732e+00  1.02010440e+00 -5.55423057e-01\n",
      "   1.56662729e+00  1.77704945e-01 -6.31313748e-01  8.81826622e-01\n",
      "   4.74623159e-01 -2.31402800e+00]\n",
      " [-6.74007082e-01  9.17367175e-01  6.99487729e-01  1.78369003e+00\n",
      "   1.25230755e+00  1.13436572e+00 -2.96799977e-01 -4.45118384e-01\n",
      "  -5.95878656e-02  1.31559037e+00]\n",
      " [-2.64111307e-02 -1.37028194e+00  1.07567461e+00 -8.10460527e-01\n",
      "   7.78433696e-01 -4.05858025e-01  6.22092758e-01 -1.39702712e-01\n",
      "   5.66603874e-02 -1.39814210e-03]\n",
      " [-3.21081175e-01 -2.56975951e-01  1.40334470e+00  1.59231629e+00\n",
      "  -4.37107763e-01  1.25264313e+00  2.64613284e-03  1.69601719e-01\n",
      "   3.04830121e-01  2.24241080e+00]\n",
      " [ 7.08722480e-01 -5.16905666e-01 -2.39770114e-01 -4.34252960e-01\n",
      "   1.74224772e+00  6.17851721e-01 -6.37464641e-01  9.05846144e-02\n",
      "  -6.73417311e-01  1.59905193e-01]]\n"
     ]
    }
   ],
   "source": [
    "m = rdm_vect.reshape(10,10)\n",
    "print(m)"
   ]
  },
  {
   "cell_type": "markdown",
   "metadata": {},
   "source": [
    "Calculer la moyenne de chaque ligne de ce tableau (sans boucles)"
   ]
  },
  {
   "cell_type": "code",
   "execution_count": 41,
   "metadata": {},
   "outputs": [
    {
     "name": "stdout",
     "output_type": "stream",
     "text": [
      "[ 0.2627675   0.17827602 -0.58252582 -0.07057926  0.47782483  0.32774789\n",
      "  0.56272953 -0.0221251   0.5952628   0.0817501 ]\n"
     ]
    }
   ],
   "source": [
    "print(np.mean(m, axis=1))"
   ]
  },
  {
   "cell_type": "markdown",
   "metadata": {},
   "source": [
    "Faire un tableau qui contient la moyenne de chaque colonne du tableau "
   ]
  },
  {
   "cell_type": "markdown",
   "metadata": {},
   "source": [
    "Calculer la somme de chaque colonne (sans boucles)"
   ]
  },
  {
   "cell_type": "code",
   "execution_count": 42,
   "metadata": {},
   "outputs": [
    {
     "name": "stdout",
     "output_type": "stream",
     "text": [
      "[-0.07138302  0.23858479  0.07491946  0.43083751  0.47176954  0.23887412\n",
      "  0.16025638  0.14174295 -0.11205118  0.23757795]\n"
     ]
    }
   ],
   "source": [
    "print(np.mean(m, axis=0))"
   ]
  },
  {
   "cell_type": "markdown",
   "metadata": {},
   "source": [
    "Calculer la somme pour chaque ligne (sans boucles)"
   ]
  },
  {
   "cell_type": "code",
   "execution_count": 43,
   "metadata": {},
   "outputs": [
    {
     "name": "stdout",
     "output_type": "stream",
     "text": [
      "[ 2.62767499  1.78276019 -5.82525821 -0.70579258  4.77824828  3.27747893\n",
      "  5.62729526 -0.22125102  5.95262799  0.81750104]\n"
     ]
    }
   ],
   "source": [
    "print(np.sum(m, axis=1))"
   ]
  },
  {
   "cell_type": "markdown",
   "metadata": {},
   "source": [
    "Calculer la somme pour chaque colonne (sans boucles)"
   ]
  },
  {
   "cell_type": "code",
   "execution_count": 40,
   "metadata": {},
   "outputs": [
    {
     "name": "stdout",
     "output_type": "stream",
     "text": [
      "[-0.71383022  2.38584787  0.74919463  4.30837508  4.71769537  2.38874124\n",
      "  1.60256377  1.41742946 -1.12051182  2.37577947]\n"
     ]
    }
   ],
   "source": [
    "print(np.sum(m, axis=0))"
   ]
  },
  {
   "cell_type": "code",
   "execution_count": null,
   "metadata": {},
   "outputs": [],
   "source": []
  }
 ],
 "metadata": {
  "kernelspec": {
   "display_name": "Python 3",
   "language": "python",
   "name": "python3"
  },
  "language_info": {
   "codemirror_mode": {
    "name": "ipython",
    "version": 3
   },
   "file_extension": ".py",
   "mimetype": "text/x-python",
   "name": "python",
   "nbconvert_exporter": "python",
   "pygments_lexer": "ipython3",
   "version": "3.7.8rc1"
  },
  "latex_envs": {
   "LaTeX_envs_menu_present": true,
   "autoclose": false,
   "autocomplete": true,
   "bibliofile": "biblio.bib",
   "cite_by": "apalike",
   "current_citInitial": 1,
   "eqLabelWithNumbers": true,
   "eqNumInitial": 1,
   "hotkeys": {
    "equation": "Ctrl-E",
    "itemize": "Ctrl-I"
   },
   "labels_anchors": false,
   "latex_user_defs": false,
   "report_style_numbering": false,
   "user_envs_cfg": false
  },
  "toc": {
   "base_numbering": 1,
   "nav_menu": {},
   "number_sections": true,
   "sideBar": true,
   "skip_h1_title": false,
   "title_cell": "Table of Contents",
   "title_sidebar": "Contents",
   "toc_cell": false,
   "toc_position": {},
   "toc_section_display": true,
   "toc_window_display": false
  },
  "varInspector": {
   "cols": {
    "lenName": 16,
    "lenType": 16,
    "lenVar": 40
   },
   "kernels_config": {
    "python": {
     "delete_cmd_postfix": "",
     "delete_cmd_prefix": "del ",
     "library": "var_list.py",
     "varRefreshCmd": "print(var_dic_list())"
    },
    "r": {
     "delete_cmd_postfix": ") ",
     "delete_cmd_prefix": "rm(",
     "library": "var_list.r",
     "varRefreshCmd": "cat(var_dic_list()) "
    }
   },
   "types_to_exclude": [
    "module",
    "function",
    "builtin_function_or_method",
    "instance",
    "_Feature"
   ],
   "window_display": false
  }
 },
 "nbformat": 4,
 "nbformat_minor": 2
}
