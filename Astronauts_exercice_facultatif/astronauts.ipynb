{
 "cells": [
  {
   "cell_type": "code",
   "execution_count": 1,
   "metadata": {},
   "outputs": [],
   "source": [
    "import pandas as pd \n",
    "import numpy as np \n",
    "import seaborn as sns\n",
    "import matplotlib.pyplot as plt"
   ]
  },
  {
   "cell_type": "code",
   "execution_count": 27,
   "metadata": {},
   "outputs": [
    {
     "name": "stdout",
     "output_type": "stream",
     "text": [
      "<class 'pandas.core.frame.DataFrame'>\n",
      "RangeIndex: 357 entries, 0 to 356\n",
      "Data columns (total 19 columns):\n",
      " #   Column               Non-Null Count  Dtype  \n",
      "---  ------               --------------  -----  \n",
      " 0   Name                 357 non-null    object \n",
      " 1   Year                 330 non-null    float64\n",
      " 2   Group                330 non-null    float64\n",
      " 3   Status               357 non-null    object \n",
      " 4   Birth Date           357 non-null    object \n",
      " 5   Birth Place          357 non-null    object \n",
      " 6   Gender               357 non-null    object \n",
      " 7   Alma Mater           356 non-null    object \n",
      " 8   Undergraduate Major  335 non-null    object \n",
      " 9   Graduate Major       298 non-null    object \n",
      " 10  Military Rank        207 non-null    object \n",
      " 11  Military Branch      211 non-null    object \n",
      " 12  Space Flights        357 non-null    int64  \n",
      " 13  Space Flight (hr)    357 non-null    int64  \n",
      " 14  Space Walks          357 non-null    int64  \n",
      " 15  Space Walks (hr)     357 non-null    float64\n",
      " 16  Missions             334 non-null    object \n",
      " 17  Death Date           52 non-null     object \n",
      " 18  Death Mission        16 non-null     object \n",
      "dtypes: float64(3), int64(3), object(13)\n",
      "memory usage: 53.1+ KB\n"
     ]
    }
   ],
   "source": [
    "astronauts= pd.read_csv('c:/temp/data/astronauts.csv')\n",
    "astronauts.info()"
   ]
  },
  {
   "cell_type": "code",
   "execution_count": 30,
   "metadata": {},
   "outputs": [
    {
     "data": {
      "text/plain": [
       "<seaborn.axisgrid.FacetGrid at 0x201147a8f48>"
      ]
     },
     "execution_count": 30,
     "metadata": {},
     "output_type": "execute_result"
    },
    {
     "data": {
      "image/png": "[encoded data removed]",
      "text/plain": [
       "<Figure size 360x360 with 1 Axes>"
      ]
     },
     "metadata": {
      "needs_background": "light"
     },
     "output_type": "display_data"
    }
   ],
   "source": [
    "sns.relplot(x=\"Space Flights\", y=\"Group\", data=astronauts)"
   ]
  },
  {
   "cell_type": "code",
   "execution_count": null,
   "metadata": {},
   "outputs": [],
   "source": []
  }
 ],
 "metadata": {
  "kernelspec": {
   "display_name": "Python 3",
   "language": "python",
   "name": "python3"
  },
  "language_info": {
   "codemirror_mode": {
    "name": "ipython",
    "version": 3
   },
   "file_extension": ".py",
   "mimetype": "text/x-python",
   "name": "python",
   "nbconvert_exporter": "python",
   "pygments_lexer": "ipython3",
   "version": "3.7.8rc1"
  }
 },
 "nbformat": 4,
 "nbformat_minor": 4
}
